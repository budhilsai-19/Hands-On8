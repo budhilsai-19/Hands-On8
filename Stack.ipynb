{
  "nbformat": 4,
  "nbformat_minor": 0,
  "metadata": {
    "colab": {
      "provenance": [],
      "authorship_tag": "ABX9TyO0mG3KxO/5a3LQVfe4Lw7S",
      "include_colab_link": true
    },
    "kernelspec": {
      "name": "python3",
      "display_name": "Python 3"
    },
    "language_info": {
      "name": "python"
    }
  },
  "cells": [
    {
      "cell_type": "markdown",
      "metadata": {
        "id": "view-in-github",
        "colab_type": "text"
      },
      "source": [
        "<a href=\"https://colab.research.google.com/github/budhilsai-19/Hands-On8/blob/main/Stack.ipynb\" target=\"_parent\"><img src=\"https://colab.research.google.com/assets/colab-badge.svg\" alt=\"Open In Colab\"/></a>"
      ]
    },
    {
      "cell_type": "code",
      "execution_count": 3,
      "metadata": {
        "colab": {
          "base_uri": "https://localhost:8080/"
        },
        "id": "HUwBam42lMsC",
        "outputId": "047d4e9c-81ba-491c-a664-ab76b6525243"
      },
      "outputs": [
        {
          "output_type": "stream",
          "name": "stdout",
          "text": [
            "5 6 7 8 9 \n",
            "Popped Element: 5\n",
            "Top Element: 6\n",
            "6 7 8 9 \n"
          ]
        }
      ],
      "source": [
        "class Stack:\n",
        "    def __init__(self, capacity):\n",
        "        self.capacity = capacity\n",
        "        self.stack = [0] * capacity\n",
        "        self.size = 0\n",
        "\n",
        "    def is_empty(self):\n",
        "        return self.size == 0\n",
        "\n",
        "    def is_full(self):\n",
        "        return self.size == self.capacity\n",
        "\n",
        "    def push(self, data):\n",
        "        if self.is_full():\n",
        "            print(\"Stack Overflow\")\n",
        "            return\n",
        "        self.stack[self.size] = data\n",
        "        self.size += 1\n",
        "\n",
        "    def pop(self):\n",
        "        if self.is_empty():\n",
        "            print(\"Stack Underflow\")\n",
        "            return None\n",
        "        self.size -= 1\n",
        "        return self.stack[self.size]\n",
        "\n",
        "    def peek(self):\n",
        "        if self.is_empty():\n",
        "            print(\"Stack is empty\")\n",
        "            return None\n",
        "        return self.stack[self.size - 1]\n",
        "\n",
        "    def display(self):\n",
        "        if self.is_empty():\n",
        "            print(\"Stack is empty\")\n",
        "            return\n",
        "        for i in range(self.size - 1, -1, -1):\n",
        "            print(self.stack[i], end=\" \")\n",
        "        print()\n",
        "\n",
        "\n",
        "#Example\n",
        "stack = Stack(5)\n",
        "stack.push(9)\n",
        "stack.push(8)\n",
        "stack.push(7)\n",
        "stack.push(6)\n",
        "stack.push(5)\n",
        "stack.display()\n",
        "print(\"Popped Element:\", stack.pop())\n",
        "print(\"Top Element:\", stack.peek())\n",
        "stack.display()"
      ]
    }
  ]
}