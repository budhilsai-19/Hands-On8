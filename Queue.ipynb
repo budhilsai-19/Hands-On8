{
  "nbformat": 4,
  "nbformat_minor": 0,
  "metadata": {
    "colab": {
      "provenance": [],
      "authorship_tag": "ABX9TyMq+L0bbA8mud4Rpzq04jXo",
      "include_colab_link": true
    },
    "kernelspec": {
      "name": "python3",
      "display_name": "Python 3"
    },
    "language_info": {
      "name": "python"
    }
  },
  "cells": [
    {
      "cell_type": "markdown",
      "metadata": {
        "id": "view-in-github",
        "colab_type": "text"
      },
      "source": [
        "<a href=\"https://colab.research.google.com/github/budhilsai-19/Hands-On8/blob/main/Queue.ipynb\" target=\"_parent\"><img src=\"https://colab.research.google.com/assets/colab-badge.svg\" alt=\"Open In Colab\"/></a>"
      ]
    },
    {
      "cell_type": "code",
      "execution_count": 3,
      "metadata": {
        "colab": {
          "base_uri": "https://localhost:8080/"
        },
        "id": "7JIOu5k7l33z",
        "outputId": "80df1935-4a44-41c5-d8be-2527b17b528f"
      },
      "outputs": [
        {
          "output_type": "stream",
          "name": "stdout",
          "text": [
            "9 8 7 6 5\n",
            "Dequeued Element: 9\n",
            "8 7 6 5\n"
          ]
        }
      ],
      "source": [
        "class Queue:\n",
        "    def __init__(self, capacity):\n",
        "        self.capacity = capacity\n",
        "        self.queue = [0] * capacity\n",
        "        self.front = 0\n",
        "        self.rear = -1\n",
        "        self.size = 0\n",
        "\n",
        "    def is_empty(self):\n",
        "        return self.size == 0\n",
        "\n",
        "    def is_full(self):\n",
        "        return self.size == self.capacity\n",
        "\n",
        "    def enqueue(self, data):\n",
        "        if self.is_full():\n",
        "            print(\"Queue Overflow\")\n",
        "            return\n",
        "        self.rear = (self.rear + 1) % self.capacity\n",
        "        self.queue[self.rear] = data\n",
        "        self.size += 1\n",
        "\n",
        "    def dequeue(self):\n",
        "        if self.is_empty():\n",
        "            print(\"Queue Underflow\")\n",
        "            return None\n",
        "        data = self.queue[self.front]\n",
        "        self.front = (self.front + 1) % self.capacity\n",
        "        self.size -= 1\n",
        "        return data\n",
        "\n",
        "    def display(self):\n",
        "        if self.is_empty():\n",
        "            print(\"Queue is empty\")\n",
        "            return\n",
        "        i = self.front\n",
        "        while i != self.rear:\n",
        "            print(self.queue[i], end=\" \")\n",
        "            i = (i + 1) % self.capacity\n",
        "        print(self.queue[self.rear])\n",
        "\n",
        "\n",
        "# Example\n",
        "queue = Queue(5)\n",
        "queue.enqueue(9)\n",
        "queue.enqueue(8)\n",
        "queue.enqueue(7)\n",
        "queue.enqueue(6)\n",
        "queue.enqueue(5)\n",
        "queue.display()\n",
        "print(\"Dequeued Element:\", queue.dequeue())\n",
        "\n",
        "queue.display()"
      ]
    }
  ]
}