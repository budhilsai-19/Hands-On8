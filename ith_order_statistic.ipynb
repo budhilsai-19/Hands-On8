{
  "nbformat": 4,
  "nbformat_minor": 0,
  "metadata": {
    "colab": {
      "provenance": [],
      "authorship_tag": "ABX9TyNqAGPDyg6EA+p/OCkDqz7q",
      "include_colab_link": true
    },
    "kernelspec": {
      "name": "python3",
      "display_name": "Python 3"
    },
    "language_info": {
      "name": "python"
    }
  },
  "cells": [
    {
      "cell_type": "markdown",
      "metadata": {
        "id": "view-in-github",
        "colab_type": "text"
      },
      "source": [
        "<a href=\"https://colab.research.google.com/github/budhilsai-19/Hands-On8/blob/main/ith_order_statistic.ipynb\" target=\"_parent\"><img src=\"https://colab.research.google.com/assets/colab-badge.svg\" alt=\"Open In Colab\"/></a>"
      ]
    },
    {
      "cell_type": "code",
      "execution_count": 2,
      "metadata": {
        "colab": {
          "base_uri": "https://localhost:8080/"
        },
        "id": "OFliGS_Fixy2",
        "outputId": "7f5fb6ae-5604-4cda-fbc3-9dd2f0e5d9f3"
      },
      "outputs": [
        {
          "output_type": "stream",
          "name": "stdout",
          "text": [
            "Sorted array: [1, 8, 11, 42, 50, 51, 54, 70, 71, 77]\n",
            "The 3th order statistic is: 11\n"
          ]
        }
      ],
      "source": [
        "def partition(arr, low, high):\n",
        "    pivot = arr[high]\n",
        "    i = low - 1\n",
        "    for j in range(low, high):\n",
        "        if arr[j] <= pivot:\n",
        "            i += 1\n",
        "            arr[i], arr[j] = arr[j], arr[i]\n",
        "    arr[i + 1], arr[high] = arr[high], arr[i + 1]\n",
        "    return i + 1\n",
        "\n",
        "def quicksort(arr, low, high):\n",
        "    if low < high:\n",
        "        pivot_index = partition(arr, low, high)\n",
        "        quicksort(arr, low, pivot_index - 1)\n",
        "        quicksort(arr, pivot_index + 1, high)\n",
        "\n",
        "def ith_order_statistic(arr, i):\n",
        "    if i < 0 or i >= len(arr):\n",
        "        return None\n",
        "    low = 0\n",
        "    high = len(arr) - 1\n",
        "    while True:\n",
        "        pivot_index = partition(arr, low, high)\n",
        "        k = pivot_index - low + 1\n",
        "        if i == k:\n",
        "            return arr[pivot_index]\n",
        "        elif i < k:\n",
        "            high = pivot_index - 1\n",
        "        else:\n",
        "            low = pivot_index + 1\n",
        "\n",
        "# Example\n",
        "arr = [54, 51, 1, 77, 71, 8, 11, 42, 50, 70]\n",
        "i = 3\n",
        "quicksort(arr, 0, len(arr) - 1)\n",
        "result = ith_order_statistic(arr, i)\n",
        "print(\"Sorted array:\", arr)\n",
        "print(f\"The {i}th order statistic is: {result}\")"
      ]
    }
  ]
}